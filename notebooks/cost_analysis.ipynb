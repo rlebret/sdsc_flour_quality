{
 "cells": [
  {
   "cell_type": "code",
   "execution_count": 90,
   "metadata": {},
   "outputs": [],
   "source": [
    "from sklearn.metrics import (\n",
    "    confusion_matrix,\n",
    "    classification_report,\n",
    ")\n",
    "import seaborn as sns\n",
    "import matplotlib.pyplot as plt\n",
    "import numpy as np\n",
    "import yaml \n",
    "import os \n",
    "\n",
    "from flour.data import FlourDataset\n",
    "from flour.models import *"
   ]
  },
  {
   "cell_type": "code",
   "execution_count": 91,
   "metadata": {},
   "outputs": [],
   "source": [
    "filename = \"../data/test.csv\"\n",
    "config_file = \"../configs/lr_flour_z_3_standard_cv.yaml\""
   ]
  },
  {
   "cell_type": "code",
   "execution_count": 92,
   "metadata": {},
   "outputs": [],
   "source": [
    "# load the config file\n",
    "with open(config_file) as f:\n",
    "    config = yaml.safe_load(f)\n",
    "# define the options\n",
    "do_regression = config[\"regression\"] if \"regression\" in config else False\n",
    "checkpoint_dir = os.path.join(\"..\", config[\"output_path\"])"
   ]
  },
  {
   "cell_type": "markdown",
   "metadata": {},
   "source": [
    "Load dataset and models"
   ]
  },
  {
   "cell_type": "code",
   "execution_count": 93,
   "metadata": {},
   "outputs": [
    {
     "name": "stdout",
     "output_type": "stream",
     "text": [
      "Scaler loaded\n",
      "{}\n"
     ]
    }
   ],
   "source": [
    "# Load the dataset\n",
    "data = FlourDataset(\n",
    "    filename,\n",
    "    remove_empty_columns=True,\n",
    "    impute_missing_values=True,\n",
    "    impute_negative_values=True,\n",
    "    scaler=config[\"scaling_method\"],\n",
    ")\n",
    "if os.path.exists(os.path.join(checkpoint_dir, \"scaler.pkl\")):\n",
    "    data.load_scaler(os.path.join(checkpoint_dir, \"scaler.pkl\"))\n",
    "    print(\"Scaler loaded\")\n",
    "# Load the model\n",
    "model_name = config[\"model_name\"]\n",
    "model_params = config[\"hyperparameters\"]\n",
    "model = eval(f\"{model_name}(**model_params)\")\n",
    "model.load(os.path.join(checkpoint_dir, \"model.pkl\"))\n",
    "print(model.hyperparameters())\n"
   ]
  },
  {
   "cell_type": "markdown",
   "metadata": {},
   "source": [
    "Get predictions"
   ]
  },
  {
   "cell_type": "code",
   "execution_count": 94,
   "metadata": {},
   "outputs": [],
   "source": [
    "# Do the predictions\n",
    "X_test, y_test = data.prepare_data(\n",
    "    remove_columns=[\"Package ID\", \"Production Mill\", \"Color\"],\n",
    "    one_hot_columns=[\"Production Recipe\"],\n",
    "    regression=do_regression,\n",
    ")\n",
    "y_pred = model.predict(X_test)"
   ]
  },
  {
   "cell_type": "markdown",
   "metadata": {},
   "source": [
    "Classification report"
   ]
  },
  {
   "cell_type": "code",
   "execution_count": 95,
   "metadata": {},
   "outputs": [],
   "source": [
    "# Save the evaluation metrics\n",
    "desired_order = [\"Low\", \"Average\", \"High\"]\n",
    "if do_regression:\n",
    "    y_test = data.convert_to_categorical(y_test)\n",
    "    y_pred = data.convert_to_categorical(y_pred)"
   ]
  },
  {
   "cell_type": "code",
   "execution_count": 96,
   "metadata": {},
   "outputs": [
    {
     "name": "stdout",
     "output_type": "stream",
     "text": [
      "              precision    recall  f1-score   support\n",
      "\n",
      "     Average       0.81      0.91      0.86       176\n",
      "        High       0.00      0.00      0.00         4\n",
      "         Low       0.84      0.70      0.76       116\n",
      "\n",
      "    accuracy                           0.82       296\n",
      "   macro avg       0.55      0.54      0.54       296\n",
      "weighted avg       0.81      0.82      0.81       296\n",
      "\n"
     ]
    },
    {
     "name": "stderr",
     "output_type": "stream",
     "text": [
      "/Users/rplebret/Documents/job_candidatures/SDSC - Senior Data Scientist 032024/flour/.venv/lib/python3.12/site-packages/sklearn/metrics/_classification.py:1509: UndefinedMetricWarning: Precision is ill-defined and being set to 0.0 in labels with no predicted samples. Use `zero_division` parameter to control this behavior.\n",
      "  _warn_prf(average, modifier, f\"{metric.capitalize()} is\", len(result))\n",
      "/Users/rplebret/Documents/job_candidatures/SDSC - Senior Data Scientist 032024/flour/.venv/lib/python3.12/site-packages/sklearn/metrics/_classification.py:1509: UndefinedMetricWarning: Precision is ill-defined and being set to 0.0 in labels with no predicted samples. Use `zero_division` parameter to control this behavior.\n",
      "  _warn_prf(average, modifier, f\"{metric.capitalize()} is\", len(result))\n",
      "/Users/rplebret/Documents/job_candidatures/SDSC - Senior Data Scientist 032024/flour/.venv/lib/python3.12/site-packages/sklearn/metrics/_classification.py:1509: UndefinedMetricWarning: Precision is ill-defined and being set to 0.0 in labels with no predicted samples. Use `zero_division` parameter to control this behavior.\n",
      "  _warn_prf(average, modifier, f\"{metric.capitalize()} is\", len(result))\n"
     ]
    }
   ],
   "source": [
    "print(classification_report(y_test, y_pred))"
   ]
  },
  {
   "cell_type": "markdown",
   "metadata": {},
   "source": [
    "Confusion matrix"
   ]
  },
  {
   "cell_type": "code",
   "execution_count": 97,
   "metadata": {},
   "outputs": [
    {
     "data": {
      "text/plain": [
       "Text(70.72222222222221, 0.5, 'True Label')"
      ]
     },
     "execution_count": 97,
     "metadata": {},
     "output_type": "execute_result"
    },
    {
     "data": {
      "image/png": "[encoded data removed]",
      "text/plain": [
       "<Figure size 800x600 with 2 Axes>"
      ]
     },
     "metadata": {},
     "output_type": "display_data"
    }
   ],
   "source": [
    "# Save the confusion matrix\n",
    "cm = confusion_matrix(y_test, y_pred, labels=desired_order)\n",
    "\n",
    "## Create a heatmap visualization\n",
    "fig, ax = plt.subplots(figsize=(8, 6))  # Adjust figure size as needed\n",
    "ax = sns.heatmap(\n",
    "    cm,\n",
    "    annot=True,\n",
    "    fmt=\"d\",\n",
    "    cmap=\"Blues\",\n",
    "    xticklabels=desired_order,\n",
    "    yticklabels=desired_order,\n",
    "    ax=ax,\n",
    ")\n",
    "ax.set_title(\"Confusion Matrix\")\n",
    "ax.set_xlabel(\"Predicted Label\")\n",
    "ax.set_ylabel(\"True Label\")"
   ]
  },
  {
   "cell_type": "markdown",
   "metadata": {},
   "source": [
    "## Cost analysis"
   ]
  },
  {
   "cell_type": "code",
   "execution_count": 120,
   "metadata": {},
   "outputs": [],
   "source": [
    "cost=[[1.2, 2.5, 5], [1.2, 2.5, 5], [1.2, 2.5, 5]]\n",
    "refund = [[0, -1.3, -3.8], [0, 0, -2.5], [0, 0, 0]]\n",
    "loss = [[0, 0, 0], [-1.3, 0, 0], [-3.8, -2.5, 0]]\n",
    "frequency = [[0.39, 0.59, 0.02]]"
   ]
  },
  {
   "cell_type": "markdown",
   "metadata": {},
   "source": [
    "Expected profit with ML model"
   ]
  },
  {
   "cell_type": "code",
   "execution_count": 111,
   "metadata": {},
   "outputs": [
    {
     "name": "stdout",
     "output_type": "stream",
     "text": [
      "[[ 390.80412371  259.42211055           nan]\n",
      " [  72.37113402 1193.34170854           nan]\n",
      " [   4.82474227   22.2361809            nan]]\n"
     ]
    },
    {
     "name": "stderr",
     "output_type": "stream",
     "text": [
      "/var/folders/3z/nvbljry53s5_wp97nncv_7sh0000gp/T/ipykernel_1534/3513228240.py:1: RuntimeWarning: invalid value encountered in divide\n",
      "  profit_matrix = (cm / sum(cm)) * frequency * 1000 *cost\n"
     ]
    }
   ],
   "source": [
    "profit_matrix = (cm / sum(cm)) * frequency * 1000 *cost\n",
    "print(profit_matrix)"
   ]
  },
  {
   "cell_type": "code",
   "execution_count": 112,
   "metadata": {},
   "outputs": [
    {
     "name": "stdout",
     "output_type": "stream",
     "text": [
      "[[   0.         -134.89949749           nan]\n",
      " [   0.            0.                   nan]\n",
      " [   0.            0.                   nan]]\n"
     ]
    },
    {
     "name": "stderr",
     "output_type": "stream",
     "text": [
      "/var/folders/3z/nvbljry53s5_wp97nncv_7sh0000gp/T/ipykernel_1534/265641000.py:1: RuntimeWarning: invalid value encountered in divide\n",
      "  refund_matrix = (cm / sum(cm)) * frequency * 1000 * refund\n"
     ]
    }
   ],
   "source": [
    "refund_matrix = (cm / sum(cm)) * frequency * 1000 * refund\n",
    "print(refund_matrix)"
   ]
  },
  {
   "cell_type": "code",
   "execution_count": 122,
   "metadata": {},
   "outputs": [
    {
     "name": "stdout",
     "output_type": "stream",
     "text": [
      "[[  0.           0.                  nan]\n",
      " [-78.40206186   0.                  nan]\n",
      " [-15.27835052 -22.2361809           nan]]\n"
     ]
    },
    {
     "name": "stderr",
     "output_type": "stream",
     "text": [
      "/var/folders/3z/nvbljry53s5_wp97nncv_7sh0000gp/T/ipykernel_1534/4101990973.py:1: RuntimeWarning: invalid value encountered in divide\n",
      "  loss_matrix = (cm / sum(cm)) * frequency * 1000 * loss\n"
     ]
    }
   ],
   "source": [
    "loss_matrix = (cm / sum(cm)) * frequency * 1000 * loss\n",
    "print(loss_matrix)"
   ]
  },
  {
   "cell_type": "code",
   "execution_count": 100,
   "metadata": {},
   "outputs": [],
   "source": [
    "# Assuming your array is called 'arr'\n",
    "def remove_nan_columns(arr):\n",
    "    # Identify columns with all NaN values\n",
    "    cols_to_remove = np.isnan(arr).all(axis=0)\n",
    "    # Return a copy of the array excluding those columns\n",
    "    return arr[:, ~cols_to_remove]"
   ]
  },
  {
   "cell_type": "code",
   "execution_count": 123,
   "metadata": {},
   "outputs": [],
   "source": [
    "profit_matrix = remove_nan_columns(profit_matrix)\n",
    "refund_matrix = remove_nan_columns(refund_matrix)\n",
    "loss_matrix = remove_nan_columns(loss_matrix)"
   ]
  },
  {
   "cell_type": "markdown",
   "metadata": {},
   "source": [
    "Perfect prediction"
   ]
  },
  {
   "cell_type": "code",
   "execution_count": 102,
   "metadata": {},
   "outputs": [],
   "source": [
    "ground_truth = np.array([[0.39, 0, 0], [0, 0.59, 0], [0, 0, 0.02]])\n",
    "perfect_prediction = ((ground_truth * 1000) * cost).sum()"
   ]
  },
  {
   "cell_type": "markdown",
   "metadata": {},
   "source": [
    "Expected Profit Matrix with refunds"
   ]
  },
  {
   "cell_type": "code",
   "execution_count": 117,
   "metadata": {},
   "outputs": [
    {
     "data": {
      "text/plain": [
       "array([[ 390.80412371,  124.52261307],\n",
       "       [  72.37113402, 1193.34170854],\n",
       "       [   4.82474227,   22.2361809 ]])"
      ]
     },
     "execution_count": 117,
     "metadata": {},
     "output_type": "execute_result"
    }
   ],
   "source": [
    "profit_matrix + refund_matrix"
   ]
  },
  {
   "cell_type": "code",
   "execution_count": 128,
   "metadata": {},
   "outputs": [
    {
     "name": "stdout",
     "output_type": "stream",
     "text": [
      "Revenue with ML: 1942.9999999999998\n",
      "Loss with ML: -115.91659327565662\n",
      "Refunds with ML: -134.8994974874372\n",
      "Profit with ML: 808.1005025125626\n",
      "Profit with perfect prediction: 543.0\n",
      "ML cost: -250.81609076309383\n"
     ]
    }
   ],
   "source": [
    "fixed_cost = 1000\n",
    "human_cost = 500\n",
    "print(f\"Revenue with ML: {profit_matrix.sum()}\")\n",
    "print(f\"Loss with ML: {loss_matrix.sum()}\")\n",
    "print(f\"Refunds with ML: {refund_matrix.sum()}\")\n",
    "print(f\"Profit with ML: {(profit_matrix + refund_matrix).sum()-fixed_cost}\")\n",
    "print(f\"Profit with perfect prediction: {perfect_prediction-fixed_cost-human_cost}\")\n",
    "print(f\"ML cost: {(loss_matrix+refund_matrix).sum()}\")"
   ]
  }
 ],
 "metadata": {
  "kernelspec": {
   "display_name": ".venv",
   "language": "python",
   "name": "python3"
  },
  "language_info": {
   "codemirror_mode": {
    "name": "ipython",
    "version": 3
   },
   "file_extension": ".py",
   "mimetype": "text/x-python",
   "name": "python",
   "nbconvert_exporter": "python",
   "pygments_lexer": "ipython3",
   "version": "3.12.3"
  }
 },
 "nbformat": 4,
 "nbformat_minor": 2
}
